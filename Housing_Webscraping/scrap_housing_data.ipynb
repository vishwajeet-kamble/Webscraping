{
 "cells": [
  {
   "cell_type": "markdown",
   "metadata": {},
   "source": [
    "# <b>Housing_webscraping</b>"
   ]
  },
  {
   "cell_type": "markdown",
   "metadata": {},
   "source": [
    "### TODO list:-\n",
    "\n",
    "- We will be using tools (Python, Pandas, Beautiful Soup, Requests)\n",
    "- use requests to downlaod the page\n",
    "- user BS4 to parse and extract information\n",
    "- convert to a Pandas dataframe\n",
    "\n",
    "#### Here are the steps we'll follow\n",
    "\n",
    "- We are going to scrap real estate agencies website \"www.pararius.com/apartments\".\n",
    "- From this website we will scrap 10 pages data you can scrap as much as you want by mentioning range\n",
    "-  From each webpage we are going to get following data columns-\n",
    "    <b>\n",
    "    1. title <br>\n",
    "    2. location\t<br>\n",
    "    3. price_per_month\tarea <br>\n",
    "    4. real_estate_agency <br>\n",
    "    5. apartment_website <br>\n",
    "    6. page_no <br>\n",
    "    </b>\n",
    "- Lastly we will convert or data to csv file\n"
   ]
  },
  {
   "cell_type": "code",
   "execution_count": 4,
   "metadata": {},
   "outputs": [
    {
     "name": "stdout",
     "output_type": "stream",
     "text": [
      "                            title                                 location  \\\n",
      "0         Apartment Koninginneweg          1075 CT Amsterdam (Willemspark)   \n",
      "1         Apartment Celebesstraat  1094 GB Amsterdam (Indische Buurt West)   \n",
      "2        Apartment Westlandgracht  1059 TL Amsterdam (Hoofddorppleinbuurt)   \n",
      "3  Apartment Van Nijenrodeweg 239   1082 GW Amsterdam (Buitenveldert-West)   \n",
      "4   Apartment Maria Austriastraat          1087 JC Amsterdam (IJburg West)   \n",
      "\n",
      "    price_per_month    area               real_estate_agency  \\\n",
      "0  €4,000 per month  147 m²          \\nInter Immo Amsterdam    \n",
      "1  €2,150 per month   75 m²       \\nExpat Rentals Amsterdam    \n",
      "2  €2,750 per month  110 m²              \\nZen Home Rentals    \n",
      "3  €2,100 per month   87 m²  \\nKoops Makelaardij Amstelveen    \n",
      "4  €1,750 per month   44 m²          \\nNGH Real Estate B.V.    \n",
      "\n",
      "                                   apartment_website page_no  \n",
      "0  https://www.pararius.com/apartment-for-rent/am...       1  \n",
      "1  https://www.pararius.com/apartment-for-rent/am...       1  \n",
      "2  https://www.pararius.com/apartment-for-rent/am...       1  \n",
      "3  https://www.pararius.com/apartment-for-rent/am...       1  \n",
      "4  https://www.pararius.com/apartment-for-rent/am...       1  \n",
      "Fin.\n"
     ]
    }
   ],
   "source": [
    "# Importing Libraries\n",
    "\n",
    "from bs4 import BeautifulSoup\n",
    "import requests                      ## requesting for url\n",
    "# from csv import writer  -- we can use this also to write csv or other files\n",
    "import pandas as pd\n",
    "\n",
    "# Empty list so that we can append data\n",
    "housing_list = []\n",
    "\n",
    "\n",
    "# creating constructer so that can get page detail\n",
    "def housing_data(page_no):\n",
    "    \n",
    "\n",
    "    url = f\"https://www.pararius.com/apartments/amsterdam/page-{page_no}\"\n",
    "        \n",
    "    page = requests.get(url)   ## requesting url\n",
    "    html_code = page.content\n",
    "    soup = BeautifulSoup(page.content, \"html.parser\")  ## gives page contents\n",
    "    #print(soup.prettify)\n",
    "    web_page = soup.find_all('ul', class_=\"search-list\")\n",
    "    \n",
    "    for division in web_page:\n",
    "        lists = division.find_all('li', class_=\"search-list__item search-list__item--listing\")\n",
    "        \n",
    "        for list in lists:\n",
    "            \n",
    "            ## Classes might change over time so if code is showing error check class and other attributes \n",
    "            \n",
    "            housing_dict = {\n",
    "            \"title\" : list.find('a', class_=\"listing-search-item__link listing-search-item__link--title\").text.strip().replace('\\n', ''),\n",
    "            \"location\" : list.find('div', class_=\"listing-search-item__sub-title\").text.strip().replace('\\n', ''),\n",
    "            \"price_per_month\" : list.find('div', class_=\"listing-search-item__price\").text.strip().replace('\\n', ''),\n",
    "            \"area\" : list.find('li', class_=\"illustrated-features__item illustrated-features__item--surface-area\").text.strip().replace('\\n', ''),\n",
    "            \"real_estate_agency\" : list.find(\"div\", class_=\"listing-search-item__info\").text,\n",
    "            \"apartment_website\" : (str(\"https://www.pararius.com\") + list.find('a', class_=\"listing-search-item__link listing-search-item__link--title\")[\"href\"]),\n",
    "            \"page_no\" : str(page_no)\n",
    "            }\n",
    "            housing_list.append(housing_dict)\n",
    "        \n",
    "    return # print(housing_list)\n",
    "\n",
    "## For 1st 10 Pages getting records\n",
    "for page_no in range(1,11):\n",
    "    housing_data(page_no)\n",
    "\n",
    "    \n",
    "df = pd.DataFrame(housing_list)\n",
    "## Converting our dataframe to excel or csv\n",
    "df.to_excel('housing_data_excel.xlsx', index=False)\n",
    "print(df.head())\n",
    "print('Fin.')"
   ]
  },
  {
   "cell_type": "markdown",
   "metadata": {},
   "source": [
    "### <b>Summary of work done in this project</b>\n",
    "- Visited website\n",
    "- Scrapped required details \n",
    "- We can perform desire analysis for getting house rent as per filterin gour data to that location\n",
    "\n",
    "#### Ideas for future work-\n",
    "- We can get other details like email, contact, etc. that we desire by visting website link,crawl & scrap through that website.\n",
    "- We can perform desire analysis for getting house at low rent, good location, getting best price as per area  and many more as per filtering our dataset\n"
   ]
  },
  {
   "cell_type": "markdown",
   "metadata": {},
   "source": []
  }
 ],
 "metadata": {
  "kernelspec": {
   "display_name": "Python 3.9.7 ('base')",
   "language": "python",
   "name": "python3"
  },
  "language_info": {
   "codemirror_mode": {
    "name": "ipython",
    "version": 3
   },
   "file_extension": ".py",
   "mimetype": "text/x-python",
   "name": "python",
   "nbconvert_exporter": "python",
   "pygments_lexer": "ipython3",
   "version": "3.9.7"
  },
  "orig_nbformat": 4,
  "vscode": {
   "interpreter": {
    "hash": "88533c9a41fe2072d9860cea0b7b1f08d3af402a5a521d56facdfc2322907107"
   }
  }
 },
 "nbformat": 4,
 "nbformat_minor": 2
}
